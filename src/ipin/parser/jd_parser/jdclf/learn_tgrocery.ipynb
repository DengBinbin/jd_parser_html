{
 "cells": [
  {
   "cell_type": "code",
   "execution_count": 7,
   "metadata": {
    "collapsed": false
   },
   "outputs": [],
   "source": [
    "from tgrocery import Grocery\n",
    "# 新开张一个杂货铺（别忘了取名）\n",
    "grocery = Grocery('sample')\n",
    "# 训练文本可以用列表传入\n",
    "train_src = [\n",
    "    ('education', '名师指导托福语法技巧：名词的复数形式'),\n",
    "    ('education', '中国高考成绩海外认可 是“狼来了”吗？'),\n",
    "    ('sports', '图文：法网孟菲尔斯苦战进16强 孟菲尔斯怒吼'),\n",
    "    ('sports', '四川丹棱举行全国长距登山挑战赛 近万人参与')\n",
    "]\n",
    "grocery.train(train_src)\n",
    "grocery.save()\n"
   ]
  },
  {
   "cell_type": "code",
   "execution_count": 9,
   "metadata": {
    "collapsed": false
   },
   "outputs": [
    {
     "data": {
      "text/plain": [
       "0.3333333333333333"
      ]
     },
     "execution_count": 9,
     "metadata": {},
     "output_type": "execute_result"
    }
   ],
   "source": [
    "new_grocery = Grocery('sample')\n",
    "new_grocery.load()\n",
    "# new_grocery.predict('考生必读：新托福写作考试评分标准')\n",
    "test_src = [\n",
    "    ('education', '福建春季公务员考试报名18日截止 2月6日考试'),\n",
    "    ('education','今天天气好'),\n",
    "    ('sports', '意甲首轮补赛交战记录:米兰客场8战不败国米10年连胜'),\n",
    "]\n",
    "new_grocery.test(test_src)"
   ]
  }
 ],
 "metadata": {
  "kernelspec": {
   "display_name": "Python 2",
   "language": "python",
   "name": "python2"
  },
  "language_info": {
   "codemirror_mode": {
    "name": "ipython",
    "version": 2
   },
   "file_extension": ".py",
   "mimetype": "text/x-python",
   "name": "python",
   "nbconvert_exporter": "python",
   "pygments_lexer": "ipython2",
   "version": "2.7.6"
  }
 },
 "nbformat": 4,
 "nbformat_minor": 0
}
